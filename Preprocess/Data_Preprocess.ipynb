{
 "cells": [
  {
   "cell_type": "code",
   "execution_count": null,
   "id": "0556ad24-42ee-4b20-b6b5-46a67f0a60ab",
   "metadata": {},
   "outputs": [],
   "source": []
  },
  {
   "cell_type": "code",
   "execution_count": 29,
   "id": "261ea7b9-d855-4dd3-9a37-058ca5cb3102",
   "metadata": {},
   "outputs": [],
   "source": [
    "import json\n",
    "\n",
    "# Load the JSON file\n",
    "def clean(i):\n",
    "    with open(f\"raw_data/zomato_{i}.json\") as f:\n",
    "        data = json.load(f)\n",
    "    # List of columns to remove\n",
    "    unwanted_cols = ['photos_url', 'url', 'apikey', 'deeplink', 'menu_url', 'book_url', 'switch_to_order_menu', 'offers', 'thumb', 'establishment_types', 'events_url', 'zomato_events']\n",
    "    \n",
    "    # List of columns to remove from event details\n",
    "    event_unwanted_cols = [\"share_url\", \"book_link\", \"event_category_name\", \"friendly_end_date\", \"is_end_time_set\", \"restaurants\"]\n",
    "    \n",
    "    # List of keys to remove from event photos\n",
    "    event_photos_unwanted_cols = [\"md5sum\", \"uuid\", \"thumb_url\"]\n",
    "    \n",
    "    # Function to clean a restaurant dictionary by removing unwanted columns and keys\n",
    "    def clean_restaurant(restaurant):\n",
    "        for col in unwanted_cols:\n",
    "            if col in restaurant:\n",
    "                del restaurant[col]\n",
    "        return restaurant\n",
    "    \n",
    "    # Clean all restaurant entries\n",
    "    cleaned_data = []\n",
    "    for entry in data:\n",
    "        if 'restaurants' in entry and entry['restaurants']:\n",
    "            restaurant = entry['restaurants'][0]['restaurant']\n",
    "            cleaned_entry = clean_restaurant(restaurant)\n",
    "            cleaned_data.append(cleaned_entry)\n",
    "    # Save the cleaned data back to a JSON file\n",
    "    with open(f're_cleaned_data/zomato_cleaned_{i}.json', 'w') as f:\n",
    "        json.dump(cleaned_data, f, indent=4)\n",
    "    \n",
    "    print(\"Cleaning and saving completed.\")\n"
   ]
  },
  {
   "cell_type": "code",
   "execution_count": 30,
   "id": "1ee63f5d-321e-4212-a4ae-c946f84f4360",
   "metadata": {},
   "outputs": [
    {
     "name": "stdout",
     "output_type": "stream",
     "text": [
      "Cleaning and saving completed.\n",
      "Cleaning and saving completed.\n",
      "Cleaning and saving completed.\n",
      "Cleaning and saving completed.\n",
      "Cleaning and saving completed.\n"
     ]
    }
   ],
   "source": [
    "for i in range(5):\n",
    "    clean(i)"
   ]
  }
 ],
 "metadata": {
  "kernelspec": {
   "display_name": "Python 3 (ipykernel)",
   "language": "python",
   "name": "python3"
  },
  "language_info": {
   "codemirror_mode": {
    "name": "ipython",
    "version": 3
   },
   "file_extension": ".py",
   "mimetype": "text/x-python",
   "name": "python",
   "nbconvert_exporter": "python",
   "pygments_lexer": "ipython3",
   "version": "3.10.12"
  }
 },
 "nbformat": 4,
 "nbformat_minor": 5
}
